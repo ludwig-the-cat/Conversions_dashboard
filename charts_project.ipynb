{
 "cells": [
  {
   "cell_type": "markdown",
   "metadata": {},
   "source": [
    "##### Подготовка к работе с данными"
   ]
  },
  {
   "cell_type": "code",
   "execution_count": null,
   "metadata": {},
   "outputs": [],
   "source": [
    "import requests\n",
    "import os\n",
    "import pandas as pd\n",
    "import matplotlib.pyplot as plt\n",
    "import matplotlib.colors as matcol\n",
    "import numpy as np\n",
    "import seaborn as sns\n",
    "from dotenv import load_dotenv\n",
    "from pathlib import Path"
   ]
  },
  {
   "cell_type": "markdown",
   "metadata": {},
   "source": [
    "##### Получаем данные по API"
   ]
  },
  {
   "cell_type": "code",
   "execution_count": null,
   "metadata": {},
   "outputs": [],
   "source": [
    "load_dotenv()\n",
    "\n",
    "DATE_BEGIN = os.getenv('DATE_BEGIN')\n",
    "DATE_END = os.getenv('DATE_END')\n",
    "API_URL = os.getenv('API_URL')"
   ]
  },
  {
   "cell_type": "markdown",
   "metadata": {},
   "source": [
    "##### Данные по визитам"
   ]
  },
  {
   "cell_type": "code",
   "execution_count": null,
   "metadata": {},
   "outputs": [],
   "source": [
    "visits_json = requests.get('https://data-charts-api.hexlet.app/visits?begin=2022-03-01&end=2023-09-01').json()\n",
    "#visits_json=requests.get(f'{API_URL}/visits?begin={DATE_BEGIN}&end={DATE_END}')\n",
    "visits_df = pd.DataFrame(visits_json)\n",
    "visits_df['datetime'] = pd.to_datetime(visits_df['datetime'])"
   ]
  },
  {
   "cell_type": "markdown",
   "metadata": {},
   "source": [
    "##### Данные по регистрациям"
   ]
  },
  {
   "cell_type": "code",
   "execution_count": null,
   "metadata": {},
   "outputs": [],
   "source": [
    "reg_json = requests.get('https://data-charts-api.hexlet.app/registrations?begin=2022-03-01&end=2023-09-01').json()\n",
    "#reg_json=requests.get(f'{API_URL}/registrations?begin={DATE_BEGIN}&end={DATE_END}')\n",
    "regestrations_df = pd.DataFrame(reg_json)\n",
    "regestrations_df['datetime'] = pd.to_datetime(regestrations_df['datetime'])\n",
    "regestrations_df"
   ]
  },
  {
   "cell_type": "markdown",
   "metadata": {},
   "source": [
    "##### Очистка данных визитов от ботов и группировка по датам и платформам"
   ]
  },
  {
   "cell_type": "code",
   "execution_count": null,
   "metadata": {},
   "outputs": [],
   "source": [
    "def get_visits(df_v):\n",
    "    prep_df = df_v.copy()\n",
    "    prep_df['user_agent'] = prep_df['user_agent'].astype('str').replace('AdsBot-Google (+http://www.google.com/adsbot.html)', np.NaN)\n",
    "    prep_df['user_agent'] = prep_df['user_agent'].astype('str').replace('Mozilla/5.0 (compatible; YandexBot/3.0; +http://yandex.com/bots)', np.NaN)\n",
    "    prep_df['user_agent'] = prep_df['user_agent'].astype('str').replace('Mozilla/5.0 (compatible; Googlebot/2.1; +http://www.google.com/bot.html)', np.NaN)\n",
    "    prep_df['user_agent'] = prep_df['user_agent'].astype('str').replace('Mozilla/5.0 (Linux; Android 6.0.1; Nexus 5X Build/MMB29P) AppleWebKit/537.36 (KHTML, like Gecko) Chrome/108.0.5359.130 Mobile Safari/537.36 (compatible; Googlebot/2.1; +http://www.google.com/bot.html)', np.NaN)\n",
    "    prep_df = prep_df.dropna()\n",
    "    # оставляем только последние посещения\n",
    "    prep_df = prep_df.sort_values(by='datetime', ascending=False).drop_duplicates(subset='visit_id')\n",
    "    prep_df['datetime'] = prep_df['datetime'].dt.to_period('D').dt.start_time.dt.date\n",
    "    prep_df = prep_df.groupby(['datetime', 'platform']).agg({'visit_id': 'count'}).reset_index()\n",
    "    # Переименуем столбцы\n",
    "    prep_df = prep_df.rename(columns={'datetime': 'date_group','visit_id': 'visits'})\n",
    "    return prep_df\n",
    "\n",
    "visits = get_visits(visits_df)\n",
    "visits"
   ]
  },
  {
   "cell_type": "markdown",
   "metadata": {},
   "source": [
    "##### Очистка данных регистраций от ботов и группировка по датам и платформам"
   ]
  },
  {
   "cell_type": "code",
   "execution_count": null,
   "metadata": {},
   "outputs": [],
   "source": [
    "def get_regs(df_r):\n",
    "    prep_df = df_r.copy()\n",
    "    prep_df['datetime'] = prep_df['datetime'].dt.to_period('D').dt.start_time.dt.date\n",
    "    prep_df = prep_df.sort_values('datetime').groupby(['datetime', 'platform']).agg({'user_id': 'count'}).reset_index()\n",
    "    # Переименуем столбцы\n",
    "    prep_df = prep_df.rename(columns={'datetime': 'date_group', 'user_id': 'registrations'})\n",
    "    return prep_df\n",
    "\n",
    "registrations = get_regs(regestrations_df)\n",
    "registrations\n",
    "    "
   ]
  },
  {
   "cell_type": "markdown",
   "metadata": {},
   "source": [
    "##### Соединение датасетов и расчет конверсий"
   ]
  },
  {
   "cell_type": "code",
   "execution_count": null,
   "metadata": {},
   "outputs": [],
   "source": [
    "def merged_df(visits, registrations):\n",
    "    merged_df = pd.merge(visits, registrations, left_on=['date_group', 'platform'], right_on=['date_group', 'platform'])\n",
    "    merged_df['conversion'] = (merged_df['registrations'] / merged_df['visits'] * 100)\n",
    "    merged_df.to_json('./conversion.json', orient='columns')\n",
    "    return merged_df\n",
    "\n",
    "conversions = merged_df(visits, registrations)"
   ]
  },
  {
   "cell_type": "markdown",
   "metadata": {},
   "source": [
    "##### Загружаем и обрабатываем данные из файла ads.csv"
   ]
  },
  {
   "cell_type": "code",
   "execution_count": null,
   "metadata": {},
   "outputs": [],
   "source": [
    "#ads_df = pd.read_csv(path)\n",
    "ads_df = pd.read_csv('./ads.csv')"
   ]
  },
  {
   "cell_type": "markdown",
   "metadata": {},
   "source": [
    "##### Обработка колонки date"
   ]
  },
  {
   "cell_type": "code",
   "execution_count": null,
   "metadata": {},
   "outputs": [],
   "source": [
    "def get_ads(df):\n",
    "    prep_ads = df.copy()\n",
    "    prep_ads['date'] = pd.to_datetime(prep_ads['date'], format='mixed')\n",
    "    prep_ads['date'] = prep_ads['date'].dt.to_period('D').dt.start_time.dt.date\n",
    "    prep_ads = prep_ads.rename(columns={'date': 'date_group'})\n",
    "    return prep_ads\n",
    "\n",
    "prep_ads = get_ads(ads_df)"
   ]
  },
  {
   "cell_type": "markdown",
   "metadata": {},
   "source": [
    "##### Объединим датафремы conversion и ads"
   ]
  },
  {
   "cell_type": "code",
   "execution_count": null,
   "metadata": {},
   "outputs": [],
   "source": [
    "\n",
    "merged_ads = pd.merge(\n",
    "    conversions, prep_ads,\n",
    "    left_on='date_group',\n",
    "    right_on='date_group',\n",
    "    how='inner'\n",
    ")"
   ]
  },
  {
   "cell_type": "markdown",
   "metadata": {},
   "source": [
    "##### Удаляем лишние столбцы и заполняем пропуски"
   ]
  },
  {
   "cell_type": "code",
   "execution_count": null,
   "metadata": {},
   "outputs": [],
   "source": [
    "clear_ads = merged_ads.drop(['platform', 'conversion', 'utm_source', 'utm_medium'], axis=1)\n",
    "filled_ads = clear_ads.fillna({'utm_campaign': 'none', 'cost': 0})"
   ]
  },
  {
   "cell_type": "markdown",
   "metadata": {},
   "source": [
    "##### Группируем и сортируем данные "
   ]
  },
  {
   "cell_type": "code",
   "execution_count": null,
   "metadata": {},
   "outputs": [],
   "source": [
    "ads = filled_ads.sort_values('date_group').groupby(['date_group', 'utm_campaign']).sum().reset_index()\n",
    "# Изменяем порядок столбцов\n",
    "ads = ads[['date_group', 'visits', 'registrations', 'cost', 'utm_campaign']]\n",
    "ads['utm_campaign'].unique()"
   ]
  },
  {
   "cell_type": "markdown",
   "metadata": {},
   "source": [
    "##### Конверсия датафрейма в JSON"
   ]
  },
  {
   "cell_type": "code",
   "execution_count": null,
   "metadata": {},
   "outputs": [],
   "source": [
    "ads.to_json('./ads.json', orient='columns')"
   ]
  },
  {
   "cell_type": "markdown",
   "metadata": {},
   "source": [
    "### Построение графиков"
   ]
  },
  {
   "cell_type": "markdown",
   "metadata": {},
   "source": [
    "##### Подготовка данных для визуализации"
   ]
  },
  {
   "cell_type": "code",
   "execution_count": null,
   "metadata": {},
   "outputs": [],
   "source": [
    "def get_weekly_data(df1, df2):\n",
    "    temp_weekly_conv1 = df1.copy()\n",
    "    temp_weekly_conv2 = df2.copy()\n",
    "\n",
    "    temp_weekly_conv1['date_week'] = pd.to_datetime(temp_weekly_conv1['date_group'])\n",
    "    temp_weekly_conv1['date_week'] = temp_weekly_conv1['date_week'].dt.to_period('W').dt.start_time.dt.date\n",
    "\n",
    "    temp_weekly_conv2['date_week'] = pd.to_datetime(temp_weekly_conv2['date_group'])\n",
    "    temp_weekly_conv2['date_week'] = temp_weekly_conv2['date_week'].dt.to_period('W').dt.start_time.dt.date\n",
    "\n",
    "    weekly_conv_platform = temp_weekly_conv2.groupby(['date_week', 'platform']).sum(['visits', 'registrations']).reset_index()\n",
    "    weekly_conv = temp_weekly_conv1.groupby(['date_week']).sum(['visits', 'registrations']).reset_index()\n",
    "\n",
    "    weekly_conv_platform['conversion'] = (weekly_conv_platform['registrations']/weekly_conv_platform['visits']) * 100\n",
    "    weekly_conv = (weekly_conv['registrations']/weekly_conv['visits']) * 100\n",
    "    return weekly_conv, weekly_conv_platform\n",
    "\n",
    "weekly_conv, weekly_conv_platform = get_weekly_data(ads, conversions)"
   ]
  },
  {
   "cell_type": "markdown",
   "metadata": {},
   "source": [
    "##### Создание директории charts"
   ]
  },
  {
   "cell_type": "code",
   "execution_count": null,
   "metadata": {},
   "outputs": [],
   "source": [
    "p = Path.cwd()\n",
    "d = p / 'charts'\n",
    "d.mkdir(exist_ok=True)"
   ]
  },
  {
   "cell_type": "markdown",
   "metadata": {},
   "source": [
    "##### Построение графика Total visits"
   ]
  },
  {
   "cell_type": "code",
   "execution_count": null,
   "metadata": {},
   "outputs": [],
   "source": [
    "def total_visits(df):\n",
    "    fig, ax = plt.subplots(figsize=(18, 9), tight_layout=True)\n",
    "    bars = plt.bar(x='date_week', height='visits', data=weekly_conv_platform, width=5)\n",
    "    #ax.bar_label(bars)\n",
    "    plt.title('Total visits', fontsize=16)\n",
    "    plt.xlabel('Date_group', fontsize=14)\n",
    "    plt.ylabel('Visits', fontsize=14)\n",
    "    plt.xticks(df['date_week'], rotation=45)\n",
    "    plt.grid(axis='y')\n",
    "    plt.tight_layout()\n",
    "    plt.savefig(f\"./charts/total_visits.png\")\n",
    "    plt.close(fig)\n",
    "\n",
    "total_visits(weekly_conv_platform)"
   ]
  },
  {
   "cell_type": "markdown",
   "metadata": {},
   "source": [
    "##### Построение графика Visits by Platform"
   ]
  },
  {
   "cell_type": "code",
   "execution_count": null,
   "metadata": {},
   "outputs": [],
   "source": [
    "def total_visits_by_platform(df):\n",
    "    fig, ax = plt.subplots(figsize=(18, 9), tight_layout=True)\n",
    "    df = df.pivot_table(index='date_week', columns='platform', values='visits')\n",
    "    df.plot(kind='bar', stacked=True, ax=ax)\n",
    "    plt.title('Visits by Platform', fontsize=16)\n",
    "    plt.xlabel('Date_group',fontsize=14)\n",
    "    plt.ylabel('Visits',fontsize=14)\n",
    "    plt.xticks(rotation=45)\n",
    "    plt.grid(axis='y')\n",
    "    plt.savefig(f\"./charts/Total_visits_platform.png\")\n",
    "    plt.close(fig)\n",
    "\n",
    "total_visits_by_platform(weekly_conv_platform)\n"
   ]
  },
  {
   "cell_type": "markdown",
   "metadata": {},
   "source": [
    "##### Построение графика Total registrations"
   ]
  },
  {
   "cell_type": "code",
   "execution_count": null,
   "metadata": {},
   "outputs": [],
   "source": [
    "def total_registrations(df):\n",
    "    fig, ax = plt.subplots(figsize=(18,9), tight_layout=True)\n",
    "    bars = plt.bar(x='date_week', height='registrations', data=weekly_conv_platform, width=5)\n",
    "    #ax.bar_label(bars)\n",
    "    plt.title('Total registrations', fontsize=16)\n",
    "    plt.xlabel('Date_group', fontsize=14)\n",
    "    plt.ylabel('Registrations', fontsize=14)\n",
    "    plt.xticks(df['date_week'], rotation=45)\n",
    "    plt.grid(axis='y')\n",
    "    plt.savefig(f\"./charts/Total_registrations.png\")\n",
    "    plt.close(fig)\n",
    "\n",
    "total_registrations(weekly_conv_platform)"
   ]
  },
  {
   "cell_type": "markdown",
   "metadata": {},
   "source": [
    "##### Построение графика Total registrations by platform"
   ]
  },
  {
   "cell_type": "code",
   "execution_count": null,
   "metadata": {},
   "outputs": [],
   "source": [
    "def total_registrations_platform(df):\n",
    "    fig, ax = plt.subplots(figsize=(18,9), tight_layout=True)\n",
    "    df = df.pivot_table(index='date_week', columns='platform', values='registrations')\n",
    "    df.plot(kind='bar', stacked=True, ax=ax)\n",
    "    plt.title('Total Registrations by Platform', fontsize=16)\n",
    "    plt.xlabel('Date_group', fontsize=14)\n",
    "    plt.ylabel('Registrations', fontsize=14)\n",
    "    plt.xticks(rotation=45)\n",
    "    plt.grid(axis='y')\n",
    "    plt.savefig(f\"./charts/Total_registrations_by_platform.png\")\n",
    "    plt.close(fig)\n",
    "    \n",
    "\n",
    "total_registrations_platform(weekly_conv_platform)"
   ]
  },
  {
   "cell_type": "markdown",
   "metadata": {},
   "source": [
    "##### Круговая диаграмма по типау регистраций"
   ]
  },
  {
   "cell_type": "code",
   "execution_count": null,
   "metadata": {},
   "outputs": [],
   "source": [
    "registrations_by_platform = conversions.groupby('platform')['registrations'].sum().reset_index()"
   ]
  },
  {
   "cell_type": "code",
   "execution_count": null,
   "metadata": {},
   "outputs": [],
   "source": [
    "def pie_chart_for_registrations(df):\n",
    "    fig, ax = plt.subplots()\n",
    "    ax.pie(df['registrations'], labels=registrations_by_platform['platform'], autopct='%1.1f%%')\n",
    "    ax.axis('equal')\n",
    "    plt.title('Registrations by Platform')\n",
    "    plt.savefig(f\"./charts/Pie_chart_for_reg.png\")\n",
    "    plt.close(fig)\n",
    "\n",
    "\n",
    "pie_chart_for_registrations(registrations_by_platform)"
   ]
  },
  {
   "cell_type": "markdown",
   "metadata": {},
   "source": [
    "##### Построение графиков конверсий по платформам"
   ]
  },
  {
   "cell_type": "code",
   "execution_count": null,
   "metadata": {},
   "outputs": [],
   "source": [
    "def get_conv_by_plat(df):\n",
    "    visregconv = df.copy(deep=True)\n",
    "\n",
    "    android_data = visregconv[visregconv['platform'] == 'android']\n",
    "    ios_data = visregconv[visregconv['platform'] == 'ios']\n",
    "    web_data = visregconv[visregconv['platform'] == 'web']\n",
    "\n",
    "    fig, axs = plt.subplots(3, 1, figsize=(14, 14), sharex=False, sharey=False, tight_layout=True)\n",
    "\n",
    "    axs[0].plot(android_data['date_week'], android_data['conversion'], label='Android')\n",
    "    axs[0].set_title('Conversion Android', fontsize=16)\n",
    "    axs[0].set_ylabel('Conversion (%)', fontsize=14)\n",
    "    axs[0].legend()\n",
    "    axs[0].grid(True, linestyle='-', linewidth=2, alpha=0.5, which='both', axis='y', markevery=2)\n",
    "    axs[0].tick_params(axis='x', rotation=45)  \n",
    "    axs[0].xaxis.set_major_locator(plt.MaxNLocator(nbins=30))\n",
    "\n",
    "    axs[1].plot(ios_data['date_week'], ios_data['conversion'], label='iOS')\n",
    "    axs[1].set_title('Conversion iOS', fontsize=16)\n",
    "    axs[1].set_ylabel('Conversion (%)', fontsize=14)\n",
    "    axs[1].legend()\n",
    "    axs[1].grid(True, linestyle='-', linewidth=2, alpha=0.5, which='both', axis='y', markevery=2)\n",
    "    axs[1].tick_params(axis='x', rotation=45) \n",
    "    axs[1].xaxis.set_major_locator(plt.MaxNLocator(nbins=30)) \n",
    "\n",
    "    axs[2].plot(web_data['date_week'], web_data['conversion'], label='Web')\n",
    "    axs[2].set_title('Conversion Web', fontsize=16)\n",
    "    axs[2].set_xlabel('Date_group', fontsize=14)\n",
    "    axs[2].set_ylabel('Conversion (%)', fontsize=14)\n",
    "    axs[2].legend()\n",
    "    axs[2].grid(True, linestyle='-', linewidth=2, alpha=0.5, which='both', axis='y', markevery=2)\n",
    "    axs[2].tick_params(axis='x', rotation=45) \n",
    "    axs[2].xaxis.set_major_locator(plt.MaxNLocator(nbins=30))\n",
    "\n",
    "    plt.savefig(f\"./charts/Conversion_platform_chart.png\")\n",
    "\n",
    "    plt.close(fig)\n",
    "\n",
    "get_conv_by_plat(weekly_conv_platform)"
   ]
  },
  {
   "cell_type": "markdown",
   "metadata": {},
   "source": [
    "##### Построим график средней конверсии"
   ]
  },
  {
   "cell_type": "code",
   "execution_count": null,
   "metadata": {},
   "outputs": [],
   "source": [
    "def avg_conversion(df):\n",
    "    avg_conv_chart = df.groupby('date_week')['conversion'].mean()\n",
    "    avg_conv_chart.plot(figsize=(18,9), style='o-', grid=True)\n",
    "    plt.title('Average Conversion')\n",
    "    plt.xlabel('Date_group')\n",
    "    plt.ylabel('Conversion (%)')\n",
    "    plt.xticks(df['date_week'].unique(), rotation=45)\n",
    "    plt.savefig(f\"./charts/Avg_conversion.png\")\n",
    "    plt.close()\n",
    "\n",
    "avg_conversion(weekly_conv_platform)"
   ]
  },
  {
   "cell_type": "markdown",
   "metadata": {},
   "source": [
    "##### Построение графиков стоимости рекламных кампаний"
   ]
  },
  {
   "cell_type": "code",
   "execution_count": null,
   "metadata": {},
   "outputs": [],
   "source": [
    "ads_week = ads.copy()\n",
    "ads_week['date_week'] = pd.to_datetime(ads_week['date_group'])\n",
    "ads_week['date_week'] = ads_week['date_week'].dt.to_period('W').dt.start_time.dt.date\n",
    "ads_week = ads_week.groupby(['date_week', 'utm_campaign']).sum(['visits', 'registrations', 'cost']).reset_index()\n",
    "ads_week['conversion'] = (ads_week['registrations'] / ads_week['visits']) * 100"
   ]
  },
  {
   "cell_type": "code",
   "execution_count": null,
   "metadata": {},
   "outputs": [],
   "source": [
    "def adscosts(df):\n",
    "    adcosts = df.groupby('date_week')['cost'].mean().reset_index()\n",
    "    fig, ax = plt.subplots()\n",
    "    fig.set_size_inches(18,9)\n",
    "    x = adcosts['date_week']\n",
    "    y = adcosts['cost']\n",
    "    ax.plot(x, y,\n",
    "            marker=\"o\",\n",
    "            c=\"g\",\n",
    "            label='Стоимость реклам',\n",
    "            linewidth=1.5,\n",
    "            markersize=6)\n",
    "    ax.legend()\n",
    "    ax.set_xlabel('Date')\n",
    "    ax.set_ylabel('Cost')\n",
    "    ax.grid(axis='y')\n",
    "    plt.title('Aggregated Ad Campaign Costs')\n",
    "    plt.xticks(adcosts['date_week'], rotation=45)\n",
    "    plt.savefig(f\"./charts/Adcosts.png\")\n",
    "    plt.close(fig)\n",
    "adscosts(ads_week)"
   ]
  },
  {
   "cell_type": "markdown",
   "metadata": {},
   "source": [
    "#### Построение графика с визитами и регистрацией с разбивкой по кампаниям"
   ]
  },
  {
   "cell_type": "code",
   "execution_count": null,
   "metadata": {},
   "outputs": [],
   "source": [
    "ads_week"
   ]
  },
  {
   "cell_type": "code",
   "execution_count": null,
   "metadata": {},
   "outputs": [],
   "source": [
    "#['advanced_algorithms_series', 'virtual_reality_workshop', 'ui_ux_design_drive', 'women_in_tech_symposium', 'intro_to_python_course']"
   ]
  },
  {
   "cell_type": "code",
   "execution_count": null,
   "metadata": {},
   "outputs": [],
   "source": [
    "camp_days = ads_week[['date_week', 'utm_campaign']]\n",
    "\n",
    "advanced_algorithms_series = camp_days.loc[camp_days['utm_campaign'] == 'advanced_algorithms_series']\n",
    "start_date = advanced_algorithms_series['date_week'].min()\n",
    "end_date = advanced_algorithms_series['date_week'].max()\n",
    "\n",
    "virtual_reality_workshop = camp_days.loc[camp_days['utm_campaign'] == 'virtual_reality_workshop']\n",
    "start_date = virtual_reality_workshop['date_week'].min()\n",
    "end_date = virtual_reality_workshop['date_week'].max()\n",
    "\n",
    "ui_ux_design_drive = camp_days.loc[camp_days['utm_campaign'] == 'ui_ux_design_drive']\n",
    "start_date = ui_ux_design_drive['date_week'].min()\n",
    "end_date = ui_ux_design_drive['date_week'].max()\n",
    "\n",
    "women_in_tech_symposium = camp_days.loc[camp_days['utm_campaign'] == 'women_in_tech_symposium']\n",
    "start_date = women_in_tech_symposium['date_week'].min()\n",
    "end_date = women_in_tech_symposium['date_week'].max()\n",
    "\n",
    "intro_to_python_course = camp_days.loc[camp_days['utm_campaign'] == 'intro_to_python_course']\n",
    "start_date = intro_to_python_course['date_week'].min()\n",
    "end_date = intro_to_python_course['date_week'].max()\n",
    "\n",
    "periods_of_ads = pd.DataFrame(columns=['start_date', 'end_date', 'utm_campaign'])\n",
    "periods_of_ads['start_date'] = [advanced_algorithms_series['date_week'].min(), virtual_reality_workshop['date_week'].min(), ui_ux_design_drive['date_week'].min(), women_in_tech_symposium['date_week'].min(), intro_to_python_course['date_week'].min()]\n",
    "periods_of_ads['end_date'] = [advanced_algorithms_series['date_week'].max(), virtual_reality_workshop['date_week'].max(), ui_ux_design_drive['date_week'].max(), women_in_tech_symposium['date_week'].max(), intro_to_python_course['date_week'].max()]\n",
    "periods_of_ads['utm_campaign'] = ['advanced_algorithms_series', 'virtual_reality_workshop', 'ui_ux_design_drive', 'women_in_tech_symposium', 'intro_to_python_course']\n"
   ]
  },
  {
   "cell_type": "code",
   "execution_count": null,
   "metadata": {},
   "outputs": [],
   "source": [
    "def vis_regist_campaign_chart(df):\n",
    "    fig, axes = plt.subplots(2, 1, figsize=(22,20))\n",
    "    visits_campaign = df.groupby(['date_week'])['visits'].sum().reset_index()\n",
    "    x = visits_campaign['date_week']\n",
    "    y = visits_campaign['visits']\n",
    "    axes[0].plot(x, y,\n",
    "            marker=\"o\",\n",
    "            c=\"c\",\n",
    "            label='Visits',\n",
    "            linewidth=2,\n",
    "            markersize=6)\n",
    "    avg_visits = df['visits'].mean()\n",
    "    axes[0].axhline(y=avg_visits, color='gray', linestyle='dashed', label='Average Number of Visits')\n",
    "    ads_started = periods_of_ads['start_date'].to_list()\n",
    "    ads_ended = periods_of_ads['end_date'].to_list()\n",
    "    for i in range(len(ads_started)):\n",
    "        axes[0].axvspan(ads_started[i], ads_ended[i], alpha=0.3, color=np.random.rand(3,), label=periods_of_ads['utm_campaign'].to_list()[i])\n",
    "    axes[0].set_title('Visits during marketing active days')\n",
    "    axes[0].set_ylabel('Unique Visits')\n",
    "    axes[0].set_xticks(visits_campaign['date_week'])\n",
    "    axes[0].set_xticklabels(visits_campaign['date_week'], fontsize=12, rotation=45)\n",
    "    axes[0].legend()\n",
    "    axes[0].grid(axis='y')\n",
    "    registr_campaign = weekly_conv_platform.groupby(['date_week'])['registrations'].sum().reset_index()\n",
    "    x3 = registr_campaign['date_week']\n",
    "    y3 = registr_campaign['registrations']\n",
    "    axes[1].plot(x3, y3,\n",
    "            marker=\"o\",\n",
    "            c=\"c\",\n",
    "            label='Registrations',\n",
    "            linewidth=2,\n",
    "            markersize=6)\n",
    "    avg_registrations = ads['registrations'].mean()\n",
    "    for i in range(len(ads_started)):\n",
    "        axes[1].axvspan(ads_started[i], ads_ended[i], alpha=0.3, color=np.random.rand(3,), label=periods_of_ads['utm_campaign'].to_list()[i])\n",
    "    axes[1].set_title('Registrations during marketing active days')\n",
    "    axes[1].set_ylabel('Unique Users')\n",
    "    axes[1].set_xticks(registr_campaign['date_week'])\n",
    "    axes[1].set_xticklabels(registr_campaign['date_week'], fontsize=12, rotation=45)\n",
    "    axes[1].legend()\n",
    "    axes[1].grid(axis='y')\n",
    "    plt.savefig(f\"./charts/Visits_and_registrations_chart.png\")\n",
    "vis_regist_campaign_chart(ads_week)"
   ]
  },
  {
   "cell_type": "markdown",
   "metadata": {},
   "source": [
    "### Дополнительные вычисления"
   ]
  },
  {
   "cell_type": "markdown",
   "metadata": {},
   "source": [
    "##### Стоимость рекламных кампаний"
   ]
  },
  {
   "cell_type": "code",
   "execution_count": null,
   "metadata": {},
   "outputs": [],
   "source": [
    "def aggregate_ads_by_campaign(ads):\n",
    "    aggregated_ads = ads.groupby('utm_campaign')['cost'].sum().reset_index()\n",
    "\n",
    "    return aggregated_ads\n",
    "\n",
    "aggregated_ads = aggregate_ads_by_campaign(ads_week)\n",
    "aggregated_ads"
   ]
  },
  {
   "cell_type": "markdown",
   "metadata": {},
   "source": [
    "##### Общее количество визитов"
   ]
  },
  {
   "cell_type": "code",
   "execution_count": null,
   "metadata": {},
   "outputs": [],
   "source": [
    "def total_visits_over_time(df):\n",
    "    df_cleaned = df.copy()\n",
    "    df_cleaned['visit_dt'] = pd.to_datetime(df_cleaned['datetime'])\n",
    "    df_cleaned = df_cleaned.sort_values(by='visit_dt')\n",
    "    df_cleaned['user_agent'] = df_cleaned['user_agent'].fillna(\"\")\n",
    "    df_cleaned = df_cleaned[~df_cleaned['user_agent'].str.contains('bot')]\n",
    "    df_cleaned['platform'] = df_cleaned['platform'].str.strip(\"'\")\n",
    "    df_cleaned['date_group'] = df_cleaned['visit_dt'].dt.to_period('D').dt.start_time.dt.date\n",
    "    total_visits = df_cleaned['visit_id'].nunique()\n",
    "    return total_visits\n",
    "\n",
    "total_visits = total_visits_over_time(visits_df)\n",
    "total_visits\n"
   ]
  },
  {
   "cell_type": "code",
   "execution_count": null,
   "metadata": {},
   "outputs": [],
   "source": [
    "def average_visits_per_day(df_visits):\n",
    "    df_visits['datetime'] = pd.to_datetime(df_visits['datetime'])\n",
    "    df_visits['date_group'] = df_visits['datetime'].dt.to_period('D').dt.start_time.dt.date\n",
    "    avg_visits_per_day = df_visits.groupby('date_group')['visit_id'].count().mean()\n",
    "    return avg_visits_per_day\n",
    "\n",
    "average_visits_per_day = average_visits_per_day(visits_df)\n",
    "average_visits_per_day"
   ]
  },
  {
   "cell_type": "code",
   "execution_count": null,
   "metadata": {},
   "outputs": [],
   "source": [
    "cost = ads['cost'].sum()\n",
    "cost\n"
   ]
  }
 ],
 "metadata": {
  "kernelspec": {
   "display_name": "Python 3",
   "language": "python",
   "name": "python3"
  },
  "language_info": {
   "codemirror_mode": {
    "name": "ipython",
    "version": 3
   },
   "file_extension": ".py",
   "mimetype": "text/x-python",
   "name": "python",
   "nbconvert_exporter": "python",
   "pygments_lexer": "ipython3",
   "version": "3.12.2"
  }
 },
 "nbformat": 4,
 "nbformat_minor": 2
}
